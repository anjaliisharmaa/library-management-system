{
 "cells": [
  {
   "cell_type": "code",
   "execution_count": 1,
   "id": "e19f1b25-32df-4e31-8eca-9fae997427d0",
   "metadata": {},
   "outputs": [
    {
     "name": "stdout",
     "output_type": "stream",
     "text": [
      "\n",
      "Library Management System\n",
      "1. Add Book\n",
      "2. Search Book\n",
      "3. Borrow Book\n",
      "4. Return Book\n",
      "5. Exit\n"
     ]
    },
    {
     "name": "stdin",
     "output_type": "stream",
     "text": [
      "Enter your choice:  1\n",
      "Enter book title:  Software Engineering\n",
      "Enter author name:  Rajib Mall\n"
     ]
    },
    {
     "name": "stdout",
     "output_type": "stream",
     "text": [
      "Book added successfully.\n",
      "\n",
      "Library Management System\n",
      "1. Add Book\n",
      "2. Search Book\n",
      "3. Borrow Book\n",
      "4. Return Book\n",
      "5. Exit\n"
     ]
    },
    {
     "name": "stdin",
     "output_type": "stream",
     "text": [
      "Enter your choice:  1\n",
      "Enter book title:  Python Programming\n",
      "Enter author name:  KK Aggarwal\n"
     ]
    },
    {
     "name": "stdout",
     "output_type": "stream",
     "text": [
      "Book added successfully.\n",
      "\n",
      "Library Management System\n",
      "1. Add Book\n",
      "2. Search Book\n",
      "3. Borrow Book\n",
      "4. Return Book\n",
      "5. Exit\n"
     ]
    },
    {
     "name": "stdin",
     "output_type": "stream",
     "text": [
      "Enter your choice:  1\n",
      "Enter book title:  Fundamentals of Software Engineerin\n",
      "Enter author name:  Ian Sommerville\n"
     ]
    },
    {
     "name": "stdout",
     "output_type": "stream",
     "text": [
      "Book added successfully.\n",
      "\n",
      "Library Management System\n",
      "1. Add Book\n",
      "2. Search Book\n",
      "3. Borrow Book\n",
      "4. Return Book\n",
      "5. Exit\n"
     ]
    },
    {
     "name": "stdin",
     "output_type": "stream",
     "text": [
      "Enter your choice:  1\n",
      "Enter book title:  Artificial Intelligence\n",
      "Enter author name:  Knight R.\n"
     ]
    },
    {
     "name": "stdout",
     "output_type": "stream",
     "text": [
      "Book added successfully.\n",
      "\n",
      "Library Management System\n",
      "1. Add Book\n",
      "2. Search Book\n",
      "3. Borrow Book\n",
      "4. Return Book\n",
      "5. Exit\n"
     ]
    },
    {
     "name": "stdin",
     "output_type": "stream",
     "text": [
      "Enter your choice:  2\n",
      "Enter book title to search:  Artificial Intelligence\n"
     ]
    },
    {
     "name": "stdout",
     "output_type": "stream",
     "text": [
      "Title: Artificial Intelligence, Author: Knight R., Status: Available\n",
      "\n",
      "Library Management System\n",
      "1. Add Book\n",
      "2. Search Book\n",
      "3. Borrow Book\n",
      "4. Return Book\n",
      "5. Exit\n"
     ]
    },
    {
     "name": "stdin",
     "output_type": "stream",
     "text": [
      "Enter your choice:  3\n",
      "Enter book title to borrow:  Artificial Intelligence\n"
     ]
    },
    {
     "name": "stdout",
     "output_type": "stream",
     "text": [
      "Book borrowed successfully.\n",
      "\n",
      "Library Management System\n",
      "1. Add Book\n",
      "2. Search Book\n",
      "3. Borrow Book\n",
      "4. Return Book\n",
      "5. Exit\n"
     ]
    },
    {
     "name": "stdin",
     "output_type": "stream",
     "text": [
      "Enter your choice:  2\n",
      "Enter book title to search:  Artificial Intelligence\n"
     ]
    },
    {
     "name": "stdout",
     "output_type": "stream",
     "text": [
      "Title: Artificial Intelligence, Author: Knight R., Status: Borrowed\n",
      "\n",
      "Library Management System\n",
      "1. Add Book\n",
      "2. Search Book\n",
      "3. Borrow Book\n",
      "4. Return Book\n",
      "5. Exit\n"
     ]
    },
    {
     "name": "stdin",
     "output_type": "stream",
     "text": [
      "Enter your choice:  4\n",
      "Enter book title to return:  Software Engineering\n"
     ]
    },
    {
     "name": "stdout",
     "output_type": "stream",
     "text": [
      "Book was not borrowed.\n",
      "\n",
      "Library Management System\n",
      "1. Add Book\n",
      "2. Search Book\n",
      "3. Borrow Book\n",
      "4. Return Book\n",
      "5. Exit\n"
     ]
    },
    {
     "name": "stdin",
     "output_type": "stream",
     "text": [
      "Enter your choice:  4\n",
      "Enter book title to return:  Artificial Intelligence\n"
     ]
    },
    {
     "name": "stdout",
     "output_type": "stream",
     "text": [
      "Book returned successfully.\n",
      "\n",
      "Library Management System\n",
      "1. Add Book\n",
      "2. Search Book\n",
      "3. Borrow Book\n",
      "4. Return Book\n",
      "5. Exit\n"
     ]
    },
    {
     "name": "stdin",
     "output_type": "stream",
     "text": [
      "Enter your choice:  5\n"
     ]
    },
    {
     "name": "stdout",
     "output_type": "stream",
     "text": [
      "Exiting the system. Goodbye!\n"
     ]
    }
   ],
   "source": [
    "import json\n",
    "\n",
    "# File to store library data\n",
    "FILE_NAME = \"library_data.json\"\n",
    "\n",
    "# Load data from file\n",
    "def load_data():\n",
    "    try:\n",
    "        with open(FILE_NAME, \"r\") as file:\n",
    "            return json.load(file)\n",
    "    except FileNotFoundError:\n",
    "        return {}\n",
    "\n",
    "# Save data to file\n",
    "def save_data(data):\n",
    "    with open(FILE_NAME, \"w\") as file:\n",
    "        json.dump(data, file)\n",
    "\n",
    "# Add a book to the library\n",
    "def add_book(library):\n",
    "    title = input(\"Enter book title: \").strip()\n",
    "    author = input(\"Enter author name: \").strip()\n",
    "    if title in library:\n",
    "        print(\"Book already exists.\")\n",
    "    else:\n",
    "        library[title] = {\"author\": author, \"available\": True}\n",
    "        print(\"Book added successfully.\")\n",
    "\n",
    "# Search for a book\n",
    "def search_book(library):\n",
    "    search_title = input(\"Enter book title to search: \").strip()\n",
    "    if search_title in library:\n",
    "        book = library[search_title]\n",
    "        status = \"Available\" if book[\"available\"] else \"Borrowed\"\n",
    "        print(f\"Title: {search_title}, Author: {book['author']}, Status: {status}\")\n",
    "    else:\n",
    "        print(\"Book not found.\")\n",
    "\n",
    "# Borrow a book\n",
    "def borrow_book(library):\n",
    "    title = input(\"Enter book title to borrow: \").strip()\n",
    "    if title in library:\n",
    "        if library[title][\"available\"]:\n",
    "            library[title][\"available\"] = False\n",
    "            print(\"Book borrowed successfully.\")\n",
    "        else:\n",
    "            print(\"Book is already borrowed.\")\n",
    "    else:\n",
    "        print(\"Book not found.\")\n",
    "\n",
    "# Return a book\n",
    "def return_book(library):\n",
    "    title = input(\"Enter book title to return: \").strip()\n",
    "    if title in library:\n",
    "        if not library[title][\"available\"]:\n",
    "            library[title][\"available\"] = True\n",
    "            print(\"Book returned successfully.\")\n",
    "        else:\n",
    "            print(\"Book was not borrowed.\")\n",
    "    else:\n",
    "        print(\"Book not found.\")\n",
    "\n",
    "# Main menu\n",
    "def main():\n",
    "    library = load_data()\n",
    "    while True:\n",
    "        print(\"\\nLibrary Management System\")\n",
    "        print(\"1. Add Book\")\n",
    "        print(\"2. Search Book\")\n",
    "        print(\"3. Borrow Book\")\n",
    "        print(\"4. Return Book\")\n",
    "        print(\"5. Exit\")\n",
    "        \n",
    "        choice = input(\"Enter your choice: \").strip()\n",
    "        if choice == \"1\":\n",
    "            add_book(library)\n",
    "        elif choice == \"2\":\n",
    "            search_book(library)\n",
    "        elif choice == \"3\":\n",
    "            borrow_book(library)\n",
    "        elif choice == \"4\":\n",
    "            return_book(library)\n",
    "        elif choice == \"5\":\n",
    "            save_data(library)\n",
    "            print(\"Exiting the system. Goodbye!\")\n",
    "            break\n",
    "        else:\n",
    "            print(\"Invalid choice. Please try again.\")\n",
    "\n",
    "if __name__ == \"__main__\":\n",
    "    main()\n"
   ]
  }
 ],
 "metadata": {
  "kernelspec": {
   "display_name": "Python 3 (ipykernel)",
   "language": "python",
   "name": "python3"
  },
  "language_info": {
   "codemirror_mode": {
    "name": "ipython",
    "version": 3
   },
   "file_extension": ".py",
   "mimetype": "text/x-python",
   "name": "python",
   "nbconvert_exporter": "python",
   "pygments_lexer": "ipython3",
   "version": "3.11.7"
  }
 },
 "nbformat": 4,
 "nbformat_minor": 5
}
